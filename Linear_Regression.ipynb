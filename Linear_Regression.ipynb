{
 "cells": [
  {
   "cell_type": "code",
   "execution_count": 1,
   "id": "91072d3b-e511-4245-8a15-1e0b6dc5a70d",
   "metadata": {},
   "outputs": [
    {
     "name": "stdout",
     "output_type": "stream",
     "text": [
      "Requirement already satisfied: sklearn in /opt/conda/lib/python3.10/site-packages (0.0.post1)\n",
      "Note: you may need to restart the kernel to use updated packages.\n"
     ]
    }
   ],
   "source": [
    "pip install sklearn"
   ]
  },
  {
   "cell_type": "code",
   "execution_count": 2,
   "id": "d615ad44-2931-403d-b8eb-95b82b5064ca",
   "metadata": {},
   "outputs": [],
   "source": [
    "import matplotlib.pyplot as plt"
   ]
  },
  {
   "cell_type": "code",
   "execution_count": 7,
   "id": "d03dc769-647b-4f91-901f-220410793a7c",
   "metadata": {},
   "outputs": [],
   "source": [
    "import numpy as np\n",
    "import pandas as pd"
   ]
  },
  {
   "cell_type": "code",
   "execution_count": 73,
   "id": "84e7f1af-543e-45ad-a183-2b9e9aadccd7",
   "metadata": {},
   "outputs": [],
   "source": [
    "from sklearn import datasets, linear_model\n",
    "from sklearn.metrics import mean_squared_error"
   ]
  },
  {
   "cell_type": "code",
   "execution_count": null,
   "id": "d367ad4f-2c44-4508-91e3-fcf46966f4d5",
   "metadata": {},
   "outputs": [],
   "source": [
    "diabetes = datasets.load_diabetes()"
   ]
  },
  {
   "cell_type": "code",
   "execution_count": 9,
   "id": "0d52e113-938e-461e-9911-05dc4c6a5726",
   "metadata": {},
   "outputs": [
    {
     "data": {
      "text/plain": [
       "sklearn.utils._bunch.Bunch"
      ]
     },
     "execution_count": 9,
     "metadata": {},
     "output_type": "execute_result"
    }
   ],
   "source": [
    "type(diabetes)"
   ]
  },
  {
   "cell_type": "code",
   "execution_count": 105,
   "id": "3613c101-0535-419d-9f78-e71115419d42",
   "metadata": {},
   "outputs": [],
   "source": [
    "diabetes_x = diabetes.data[:,np.newaxis,2]\n",
    "#diabetes_x = diabetes.data"
   ]
  },
  {
   "cell_type": "code",
   "execution_count": 106,
   "id": "d1b12064-e432-4b72-8762-052072d6ef34",
   "metadata": {},
   "outputs": [
    {
     "data": {
      "text/plain": [
       "442"
      ]
     },
     "execution_count": 106,
     "metadata": {},
     "output_type": "execute_result"
    }
   ],
   "source": [
    "len(diabetes_x)"
   ]
  },
  {
   "cell_type": "code",
   "execution_count": 107,
   "id": "ec5c939e-77b0-4840-ae27-87d6e5c7b9b9",
   "metadata": {},
   "outputs": [],
   "source": [
    "diabetes_x_train = diabetes_x[:-30]"
   ]
  },
  {
   "cell_type": "code",
   "execution_count": 108,
   "id": "ca71a684-82ba-4445-90d3-544ef6ee5325",
   "metadata": {},
   "outputs": [
    {
     "data": {
      "text/plain": [
       "412"
      ]
     },
     "execution_count": 108,
     "metadata": {},
     "output_type": "execute_result"
    }
   ],
   "source": [
    "len(diabetes_x_train)"
   ]
  },
  {
   "cell_type": "code",
   "execution_count": 109,
   "id": "47627934-c4f0-4d0b-889b-9383054fd80c",
   "metadata": {},
   "outputs": [],
   "source": [
    "diabetes_x_test = diabetes_x[-30:]"
   ]
  },
  {
   "cell_type": "code",
   "execution_count": 110,
   "id": "0c845d3d-408c-4559-a3e9-019abe73c6f5",
   "metadata": {},
   "outputs": [
    {
     "data": {
      "text/plain": [
       "30"
      ]
     },
     "execution_count": 110,
     "metadata": {},
     "output_type": "execute_result"
    }
   ],
   "source": [
    "len(diabetes_x_test)"
   ]
  },
  {
   "cell_type": "code",
   "execution_count": 111,
   "id": "d1dfa1e0-b37c-4d5f-acf9-06202eea7c64",
   "metadata": {},
   "outputs": [],
   "source": [
    "diabetes_y_train = diabetes.target[:-30]"
   ]
  },
  {
   "cell_type": "code",
   "execution_count": 112,
   "id": "fc9e336c-10af-4710-bc87-62a6a93cd5bd",
   "metadata": {},
   "outputs": [],
   "source": [
    "diabetes_y_test = diabetes.target[-30:]"
   ]
  },
  {
   "cell_type": "code",
   "execution_count": null,
   "id": "7e93fffe-eea4-4b97-bec9-4271320255b0",
   "metadata": {},
   "outputs": [],
   "source": []
  },
  {
   "cell_type": "code",
   "execution_count": 113,
   "id": "bf6218eb-285a-4aa9-9669-d356f424d658",
   "metadata": {},
   "outputs": [],
   "source": [
    "model = linear_model.LinearRegression()\n",
    "model.fit(diabetes_x_train,diabetes_y_train)\n",
    "diabetes_y_predicted = model.predict(diabetes_x_test)"
   ]
  },
  {
   "cell_type": "code",
   "execution_count": 114,
   "id": "26570d3f-cfae-4fe2-b253-21eb89dd981e",
   "metadata": {},
   "outputs": [
    {
     "data": {
      "text/plain": [
       "array([233.80294072, 152.62808714, 159.73088683, 161.76025817,\n",
       "       228.72951237, 220.61202701, 130.3050024 , 101.89380365,\n",
       "       119.14346004, 168.86305786, 226.70014103, 116.09940303,\n",
       "       163.78962951, 115.08471736, 121.17283138, 158.71620116,\n",
       "       236.84699773, 122.18751705,  99.86443231, 124.21688839,\n",
       "       205.39174197,  96.8203753 , 154.65745848, 131.31968807,\n",
       "        83.62946159, 171.90711487, 138.42248776, 138.42248776,\n",
       "       190.17145692,  84.64414726])"
      ]
     },
     "execution_count": 114,
     "metadata": {},
     "output_type": "execute_result"
    }
   ],
   "source": [
    "diabetes_y_predicted"
   ]
  },
  {
   "cell_type": "code",
   "execution_count": 115,
   "id": "faa9c56c-ee6d-43c9-9a9a-38437848ba44",
   "metadata": {},
   "outputs": [
    {
     "data": {
      "text/plain": [
       "array([261., 113., 131., 174., 257.,  55.,  84.,  42., 146., 212., 233.,\n",
       "        91., 111., 152., 120.,  67., 310.,  94., 183.,  66., 173.,  72.,\n",
       "        49.,  64.,  48., 178., 104., 132., 220.,  57.])"
      ]
     },
     "execution_count": 115,
     "metadata": {},
     "output_type": "execute_result"
    }
   ],
   "source": [
    "diabetes_y_test"
   ]
  },
  {
   "cell_type": "code",
   "execution_count": 116,
   "id": "735e3c33-4702-44f2-a925-1c720fdf55b5",
   "metadata": {},
   "outputs": [
    {
     "name": "stdout",
     "output_type": "stream",
     "text": [
      "Mean squared error is :  3035.060115291269\n",
      "weights :  [941.43097333]\n",
      "Intercept :  153.39713623331644\n"
     ]
    }
   ],
   "source": [
    "print('Mean squared error is : ' , mean_squared_error(diabetes_y_test,diabetes_y_predicted))\n",
    "print('weights : ', model.coef_)\n",
    "print('Intercept : ', model.intercept_)"
   ]
  },
  {
   "cell_type": "code",
   "execution_count": null,
   "id": "68ea6b01-1b45-46f0-821d-235aed191d21",
   "metadata": {},
   "outputs": [],
   "source": []
  },
  {
   "cell_type": "code",
   "execution_count": 117,
   "id": "b86e9a86-8ded-4196-874b-9185b967b848",
   "metadata": {},
   "outputs": [
    {
     "data": {
      "text/plain": [
       "<matplotlib.collections.PathCollection at 0x7f1fe0b056f0>"
      ]
     },
     "execution_count": 117,
     "metadata": {},
     "output_type": "execute_result"
    },
    {
     "data": {
      "image/png": "[encoded data removed]",
      "text/plain": [
       "<Figure size 640x480 with 1 Axes>"
      ]
     },
     "metadata": {},
     "output_type": "display_data"
    }
   ],
   "source": [
    "plt.scatter(diabetes_x_test,diabetes_y_test)"
   ]
  },
  {
   "cell_type": "code",
   "execution_count": 118,
   "id": "64a140ae-ae6a-45fc-9c00-93394dceeeb0",
   "metadata": {},
   "outputs": [
    {
     "data": {
      "image/png": "[encoded data removed]",
      "text/plain": [
       "<Figure size 640x480 with 1 Axes>"
      ]
     },
     "metadata": {},
     "output_type": "display_data"
    }
   ],
   "source": [
    "plt.scatter(diabetes_x_test,diabetes_y_test)\n",
    "plt.plot(diabetes_x_test,diabetes_y_predicted)\n",
    "plt.show()"
   ]
  },
  {
   "cell_type": "code",
   "execution_count": null,
   "id": "758bdc60-cbd9-4eb4-a28f-895a9d602e98",
   "metadata": {},
   "outputs": [],
   "source": []
  },
  {
   "cell_type": "code",
   "execution_count": null,
   "id": "e2098d05-ee19-4efb-9f85-01af8803bc9d",
   "metadata": {},
   "outputs": [],
   "source": []
  }
 ],
 "metadata": {
  "kernelspec": {
   "display_name": "Python 3 (ipykernel)",
   "language": "python",
   "name": "python3"
  },
  "language_info": {
   "codemirror_mode": {
    "name": "ipython",
    "version": 3
   },
   "file_extension": ".py",
   "mimetype": "text/x-python",
   "name": "python",
   "nbconvert_exporter": "python",
   "pygments_lexer": "ipython3",
   "version": "3.10.8"
  }
 },
 "nbformat": 4,
 "nbformat_minor": 5
}

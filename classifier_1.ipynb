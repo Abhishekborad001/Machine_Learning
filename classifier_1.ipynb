{
 "cells": [
  {
   "cell_type": "markdown",
   "id": "db46370a-14ba-4b70-9bd6-91abcfd2f2a9",
   "metadata": {},
   "source": [
    "**Loading required modules**"
   ]
  },
  {
   "cell_type": "code",
   "execution_count": 21,
   "id": "8d26dc19-f56e-40a0-a3de-11bf99d6d8b1",
   "metadata": {},
   "outputs": [],
   "source": [
    "from sklearn import datasets\n",
    "from sklearn.neighbors import KNeighborsClassifier"
   ]
  },
  {
   "cell_type": "markdown",
   "id": "93d43749-9a1d-42e1-9ac2-601111947f5d",
   "metadata": {},
   "source": [
    "**Loading Dataset**"
   ]
  },
  {
   "cell_type": "code",
   "execution_count": 2,
   "id": "637fff8a-2774-444a-86a6-33d808e57889",
   "metadata": {},
   "outputs": [],
   "source": [
    "iris = datasets.load_iris()"
   ]
  },
  {
   "cell_type": "markdown",
   "id": "905609cc-6e1e-488e-be55-7ce526361006",
   "metadata": {},
   "source": [
    "**printing description and features**"
   ]
  },
  {
   "cell_type": "code",
   "execution_count": 5,
   "id": "c86d48b3-2e0d-498d-b72f-95f50aae5f54",
   "metadata": {},
   "outputs": [
    {
     "data": {
      "text/plain": [
       "['sepal length (cm)',\n",
       " 'sepal width (cm)',\n",
       " 'petal length (cm)',\n",
       " 'petal width (cm)']"
      ]
     },
     "execution_count": 5,
     "metadata": {},
     "output_type": "execute_result"
    }
   ],
   "source": [
    "iris.feature_names"
   ]
  },
  {
   "cell_type": "code",
   "execution_count": 10,
   "id": "4a6bb5d2-aced-41b1-8a42-5fa1517a8d99",
   "metadata": {},
   "outputs": [
    {
     "data": {
      "text/plain": [
       "array(['setosa', 'versicolor', 'virginica'], dtype='<U10')"
      ]
     },
     "execution_count": 10,
     "metadata": {},
     "output_type": "execute_result"
    }
   ],
   "source": [
    "iris.target_names"
   ]
  },
  {
   "cell_type": "code",
   "execution_count": 11,
   "id": "66eb54cb-3623-43f5-804a-8cfe16387f38",
   "metadata": {},
   "outputs": [],
   "source": [
    "features = iris.data"
   ]
  },
  {
   "cell_type": "code",
   "execution_count": 12,
   "id": "0f362460-46f5-4019-8c25-682e6690af72",
   "metadata": {},
   "outputs": [],
   "source": [
    "labels = iris.target"
   ]
  },
  {
   "cell_type": "code",
   "execution_count": 20,
   "id": "8db10141-f4c4-498e-8556-3f0b2ade9f34",
   "metadata": {},
   "outputs": [
    {
     "data": {
      "text/plain": [
       "150"
      ]
     },
     "execution_count": 20,
     "metadata": {},
     "output_type": "execute_result"
    }
   ],
   "source": [
    "len(features)"
   ]
  },
  {
   "cell_type": "markdown",
   "id": "10482d8f-7cd3-417a-8129-e9ade5ae2ca6",
   "metadata": {},
   "source": [
    "**Training the classifier**"
   ]
  },
  {
   "cell_type": "code",
   "execution_count": 28,
   "id": "99fab39d-ddfa-4c46-aff0-de79956fe839",
   "metadata": {},
   "outputs": [
    {
     "name": "stdout",
     "output_type": "stream",
     "text": [
      "[2]\n"
     ]
    }
   ],
   "source": [
    "clf = KNeighborsClassifier()\n",
    "clf.fit(features,labels)\n",
    "\n",
    "preds = clf.predict([[31,1,1,1]])\n",
    "print(preds)"
   ]
  },
  {
   "cell_type": "code",
   "execution_count": null,
   "id": "b11f6193-58b0-4d4c-9135-627b467e9916",
   "metadata": {},
   "outputs": [],
   "source": []
  }
 ],
 "metadata": {
  "kernelspec": {
   "display_name": "Python 3 (ipykernel)",
   "language": "python",
   "name": "python3"
  },
  "language_info": {
   "codemirror_mode": {
    "name": "ipython",
    "version": 3
   },
   "file_extension": ".py",
   "mimetype": "text/x-python",
   "name": "python",
   "nbconvert_exporter": "python",
   "pygments_lexer": "ipython3",
   "version": "3.10.8"
  }
 },
 "nbformat": 4,
 "nbformat_minor": 5
}

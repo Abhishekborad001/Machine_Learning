{
 "cells": [
  {
   "cell_type": "markdown",
   "id": "6ee2d04f-1dcc-4fe0-9888-bcdf9152bbc4",
   "metadata": {},
   "source": [
    "## Train a logistic regression classifier to predict whether a flower is iris virginica or not"
   ]
  },
  {
   "cell_type": "code",
   "execution_count": 79,
   "id": "9af0e1e2-46a6-44a3-b67a-24b05d0412a3",
   "metadata": {},
   "outputs": [],
   "source": [
    "from sklearn import datasets\n",
    "import numpy as np\n",
    "from sklearn.linear_model import LogisticRegression\n",
    "import matplotlib.pyplot as plt"
   ]
  },
  {
   "cell_type": "code",
   "execution_count": 11,
   "id": "10668276-b31e-4002-b25f-253e3332791f",
   "metadata": {},
   "outputs": [],
   "source": [
    "iris = datasets.load_iris()"
   ]
  },
  {
   "cell_type": "code",
   "execution_count": 12,
   "id": "909127c8-2500-4ab6-92f0-4b8c1d7ba6f7",
   "metadata": {},
   "outputs": [
    {
     "name": "stdout",
     "output_type": "stream",
     "text": [
      "['data', 'target', 'frame', 'target_names', 'DESCR', 'feature_names', 'filename', 'data_module']\n"
     ]
    }
   ],
   "source": [
    "print(list(iris.keys()))"
   ]
  },
  {
   "cell_type": "code",
   "execution_count": 35,
   "id": "6819aeea-e913-4457-9c6e-e72d87c31f49",
   "metadata": {},
   "outputs": [
    {
     "data": {
      "text/plain": [
       "array(['setosa', 'versicolor', 'virginica'], dtype='<U10')"
      ]
     },
     "execution_count": 35,
     "metadata": {},
     "output_type": "execute_result"
    }
   ],
   "source": [
    "iris.target_names"
   ]
  },
  {
   "cell_type": "code",
   "execution_count": 50,
   "id": "c77fcd4a-0120-4126-b2ce-49885de2ae6c",
   "metadata": {},
   "outputs": [
    {
     "data": {
      "text/plain": [
       "['sepal length (cm)',\n",
       " 'sepal width (cm)',\n",
       " 'petal length (cm)',\n",
       " 'petal width (cm)']"
      ]
     },
     "execution_count": 50,
     "metadata": {},
     "output_type": "execute_result"
    }
   ],
   "source": [
    "iris.feature_names"
   ]
  },
  {
   "cell_type": "code",
   "execution_count": 51,
   "id": "686c12f1-26f6-40e3-bc62-564e94a6d3e7",
   "metadata": {},
   "outputs": [
    {
     "data": {
      "text/plain": [
       "(150, 4)"
      ]
     },
     "execution_count": 51,
     "metadata": {},
     "output_type": "execute_result"
    }
   ],
   "source": [
    "iris['data'].shape"
   ]
  },
  {
   "cell_type": "code",
   "execution_count": 32,
   "id": "f0b59eef-8e95-49fc-8df7-522023fffa38",
   "metadata": {},
   "outputs": [],
   "source": [
    "x = iris['data'][:,3:]"
   ]
  },
  {
   "cell_type": "code",
   "execution_count": 47,
   "id": "8d5e9972-b507-4e0a-903e-83ddec3ff495",
   "metadata": {},
   "outputs": [],
   "source": [
    "y = (iris['target'] == 2).astype(np.int64)"
   ]
  },
  {
   "cell_type": "markdown",
   "id": "d4979a62-bb53-41b1-b5eb-528f06f2d60f",
   "metadata": {},
   "source": [
    "**Train a logistic regression classifier**"
   ]
  },
  {
   "cell_type": "code",
   "execution_count": 59,
   "id": "d2c1417a-29dd-4406-ba83-e4b3bb10d461",
   "metadata": {},
   "outputs": [
    {
     "name": "stdout",
     "output_type": "stream",
     "text": [
      "[1]\n"
     ]
    }
   ],
   "source": [
    "clf = LogisticRegression()\n",
    "clf.fit(x,y)\n",
    "\n",
    "example = clf.predict([[2.3]])\n",
    "print(example)"
   ]
  },
  {
   "cell_type": "code",
   "execution_count": 67,
   "id": "dfce71be-b2ec-400c-87f2-5a4ccce48c80",
   "metadata": {},
   "outputs": [],
   "source": [
    "x_new = np.linspace(0,3,1000).reshape(-1,1)"
   ]
  },
  {
   "cell_type": "code",
   "execution_count": 73,
   "id": "75307d3a-9aa9-48b5-b05a-11a55007b77d",
   "metadata": {},
   "outputs": [],
   "source": [
    "y_prob = clf.predict_proba(x_new)"
   ]
  },
  {
   "cell_type": "code",
   "execution_count": 93,
   "id": "db750c7d-c64c-40e6-8894-e68573526774",
   "metadata": {},
   "outputs": [
    {
     "data": {
      "text/plain": [
       "(1000, 2)"
      ]
     },
     "execution_count": 93,
     "metadata": {},
     "output_type": "execute_result"
    }
   ],
   "source": [
    "y_prob.shape"
   ]
  },
  {
   "cell_type": "code",
   "execution_count": 100,
   "id": "534e862c-a450-4cb3-bf35-c1134cc9033e",
   "metadata": {},
   "outputs": [
    {
     "data": {
      "image/png": "[encoded data removed]",
      "text/plain": [
       "<Figure size 640x480 with 1 Axes>"
      ]
     },
     "metadata": {},
     "output_type": "display_data"
    }
   ],
   "source": [
    "plt.plot(x_new ,y_prob[:,1])\n",
    "plt.show()"
   ]
  },
  {
   "cell_type": "code",
   "execution_count": null,
   "id": "de7aa394-f75a-4388-9a6b-89d1a6c7c557",
   "metadata": {},
   "outputs": [],
   "source": []
  }
 ],
 "metadata": {
  "kernelspec": {
   "display_name": "Python 3 (ipykernel)",
   "language": "python",
   "name": "python3"
  },
  "language_info": {
   "codemirror_mode": {
    "name": "ipython",
    "version": 3
   },
   "file_extension": ".py",
   "mimetype": "text/x-python",
   "name": "python",
   "nbconvert_exporter": "python",
   "pygments_lexer": "ipython3",
   "version": "3.10.8"
  }
 },
 "nbformat": 4,
 "nbformat_minor": 5
}
